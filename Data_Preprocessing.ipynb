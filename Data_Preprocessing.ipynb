{
  "nbformat": 4,
  "nbformat_minor": 0,
  "metadata": {
    "colab": {
      "name": "Data Preprocessing.ipynb",
      "provenance": [],
      "collapsed_sections": []
    },
    "kernelspec": {
      "name": "python3",
      "display_name": "Python 3"
    },
    "language_info": {
      "name": "python"
    }
  },
  "cells": [
    {
      "cell_type": "markdown",
      "metadata": {
        "id": "oa2svOltlw-K"
      },
      "source": [
        "**IMPORTING THE LIBRARIES**"
      ]
    },
    {
      "cell_type": "code",
      "metadata": {
        "id": "g5pvGmq4jBu_"
      },
      "source": [
        "import pandas as pd \n",
        "import matplotlib.pyplot as plt\n",
        "import numpy as np\n",
        "import missingno as msno # for the missing data as a matrix"
      ],
      "execution_count": 78,
      "outputs": []
    },
    {
      "cell_type": "markdown",
      "metadata": {
        "id": "RAA1GvTQl5dg"
      },
      "source": [
        "**IMPORTING THE DATA FILE**"
      ]
    },
    {
      "cell_type": "code",
      "metadata": {
        "colab": {
          "base_uri": "https://localhost:8080/",
          "height": 202
        },
        "id": "jC8FtX_jk6iV",
        "outputId": "43e29ab0-3d65-43a2-992e-30062075e95b"
      },
      "source": [
        "dataset = pd.read_csv(\"Data.csv\")#reads the csv file\n",
        "x=dataset.iloc[:,0:3].values#couldhave used [:,:-1]# .values changes the data to array\n",
        "y=dataset.iloc[:,-1].values#using [:,3:] changes the orientation\n",
        "dataset.head()# prints the first 5 lines of the data ser"
      ],
      "execution_count": 79,
      "outputs": [
        {
          "output_type": "execute_result",
          "data": {
            "text/html": [
              "<div>\n",
              "<style scoped>\n",
              "    .dataframe tbody tr th:only-of-type {\n",
              "        vertical-align: middle;\n",
              "    }\n",
              "\n",
              "    .dataframe tbody tr th {\n",
              "        vertical-align: top;\n",
              "    }\n",
              "\n",
              "    .dataframe thead th {\n",
              "        text-align: right;\n",
              "    }\n",
              "</style>\n",
              "<table border=\"1\" class=\"dataframe\">\n",
              "  <thead>\n",
              "    <tr style=\"text-align: right;\">\n",
              "      <th></th>\n",
              "      <th>Country</th>\n",
              "      <th>Age</th>\n",
              "      <th>Salary</th>\n",
              "      <th>Purchased</th>\n",
              "    </tr>\n",
              "  </thead>\n",
              "  <tbody>\n",
              "    <tr>\n",
              "      <th>0</th>\n",
              "      <td>France</td>\n",
              "      <td>44.0</td>\n",
              "      <td>72000.0</td>\n",
              "      <td>No</td>\n",
              "    </tr>\n",
              "    <tr>\n",
              "      <th>1</th>\n",
              "      <td>Spain</td>\n",
              "      <td>27.0</td>\n",
              "      <td>48000.0</td>\n",
              "      <td>Yes</td>\n",
              "    </tr>\n",
              "    <tr>\n",
              "      <th>2</th>\n",
              "      <td>Germany</td>\n",
              "      <td>30.0</td>\n",
              "      <td>54000.0</td>\n",
              "      <td>No</td>\n",
              "    </tr>\n",
              "    <tr>\n",
              "      <th>3</th>\n",
              "      <td>Spain</td>\n",
              "      <td>38.0</td>\n",
              "      <td>61000.0</td>\n",
              "      <td>No</td>\n",
              "    </tr>\n",
              "    <tr>\n",
              "      <th>4</th>\n",
              "      <td>Germany</td>\n",
              "      <td>40.0</td>\n",
              "      <td>NaN</td>\n",
              "      <td>Yes</td>\n",
              "    </tr>\n",
              "  </tbody>\n",
              "</table>\n",
              "</div>"
            ],
            "text/plain": [
              "   Country   Age   Salary Purchased\n",
              "0   France  44.0  72000.0        No\n",
              "1    Spain  27.0  48000.0       Yes\n",
              "2  Germany  30.0  54000.0        No\n",
              "3    Spain  38.0  61000.0        No\n",
              "4  Germany  40.0      NaN       Yes"
            ]
          },
          "metadata": {
            "tags": []
          },
          "execution_count": 79
        }
      ]
    },
    {
      "cell_type": "code",
      "metadata": {
        "colab": {
          "base_uri": "https://localhost:8080/"
        },
        "id": "RAQTL04_m_Fr",
        "outputId": "51908e71-4f52-4a3a-a3b5-2fbc35e27679"
      },
      "source": [
        "print(x)"
      ],
      "execution_count": 64,
      "outputs": [
        {
          "output_type": "stream",
          "text": [
            "[['France' 44.0 72000.0]\n",
            " ['Spain' 27.0 48000.0]\n",
            " ['Germany' 30.0 54000.0]\n",
            " ['Spain' 38.0 61000.0]\n",
            " ['Germany' 40.0 nan]\n",
            " ['France' 35.0 58000.0]\n",
            " ['Spain' nan 52000.0]\n",
            " ['France' 48.0 79000.0]\n",
            " ['Germany' 50.0 83000.0]\n",
            " ['France' 37.0 67000.0]]\n"
          ],
          "name": "stdout"
        }
      ]
    },
    {
      "cell_type": "code",
      "metadata": {
        "colab": {
          "base_uri": "https://localhost:8080/"
        },
        "id": "zTha4IJ2nBom",
        "outputId": "41b4f17d-ab9c-46c1-d653-f37e6e5aebf0"
      },
      "source": [
        "print(y)"
      ],
      "execution_count": 65,
      "outputs": [
        {
          "output_type": "stream",
          "text": [
            "['No' 'Yes' 'No' 'No' 'Yes' 'Yes' 'No' 'Yes' 'No' 'Yes']\n"
          ],
          "name": "stdout"
        }
      ]
    },
    {
      "cell_type": "markdown",
      "metadata": {
        "id": "xr_mzrIopJPr"
      },
      "source": [
        "**DEALING WITH MISSING DATA**\n",
        "\n",
        "1.   https://towardsdatascience.com/7-ways-to-handle-missing-values-in-machine-learning-1a6326adf79e\n",
        "2. https://www.kaggle.com/dansbecker/handling-missing-values\n",
        "\n",
        "\n"
      ]
    },
    {
      "cell_type": "code",
      "metadata": {
        "colab": {
          "base_uri": "https://localhost:8080/",
          "height": 319
        },
        "id": "wJZ2HiNboXcx",
        "outputId": "ef21800d-912b-4218-bf1a-cf6da9024df3"
      },
      "source": [
        "msno.matrix(dataset)"
      ],
      "execution_count": 66,
      "outputs": [
        {
          "output_type": "execute_result",
          "data": {
            "text/plain": [
              "<matplotlib.axes._subplots.AxesSubplot at 0x7f24f3c6c3d0>"
            ]
          },
          "metadata": {
            "tags": []
          },
          "execution_count": 66
        },
        {
          "output_type": "display_data",
          "data": {
            "image/png": "[encoded data removed]",
            "text/plain": [
              "<Figure size 1800x720 with 2 Axes>"
            ]
          },
          "metadata": {
            "tags": [],
            "needs_background": "light"
          }
        }
      ]
    },
    {
      "cell_type": "code",
      "metadata": {
        "id": "jJecvwFkwwuO"
      },
      "source": [
        "from sklearn.impute import SimpleImputer\n",
        "imputer= SimpleImputer(np.nan, strategy='mean')#or imputer= SimpleImputer(missing_values=np.nan, strategy='mean\n",
        "#imputer.fit(x[:,1:3])\n",
        "x[:,1:3]=imputer.fit_transform(x[:,1:3])"
      ],
      "execution_count": 80,
      "outputs": []
    },
    {
      "cell_type": "code",
      "metadata": {
        "colab": {
          "base_uri": "https://localhost:8080/"
        },
        "id": "cwx3VC8Fx7Oa",
        "outputId": "e11f3731-c8d1-4e74-8016-02ab3e057860"
      },
      "source": [
        "print(x)"
      ],
      "execution_count": 69,
      "outputs": [
        {
          "output_type": "stream",
          "text": [
            "[['France' 44.0 72000.0]\n",
            " ['Spain' 27.0 48000.0]\n",
            " ['Germany' 30.0 54000.0]\n",
            " ['Spain' 38.0 61000.0]\n",
            " ['Germany' 40.0 63777.77777777778]\n",
            " ['France' 35.0 58000.0]\n",
            " ['Spain' 38.77777777777778 52000.0]\n",
            " ['France' 48.0 79000.0]\n",
            " ['Germany' 50.0 83000.0]\n",
            " ['France' 37.0 67000.0]]\n"
          ],
          "name": "stdout"
        }
      ]
    },
    {
      "cell_type": "markdown",
      "metadata": {
        "id": "uCwo-Y--234J"
      },
      "source": [
        "**ENCODING INDEPENDENT VARIABLE**\n",
        "\n",
        "1.   https://towardsdatascience.com/categorical-encoding-using-label-encoding-and-one-hot-encoder-911ef77fb5bd\n",
        "\n"
      ]
    },
    {
      "cell_type": "code",
      "metadata": {
        "id": "ZFGVQdoK3Bwu"
      },
      "source": [
        "from sklearn.compose import ColumnTransformer \n",
        "from sklearn.preprocessing import OneHotEncoder\n",
        "ct = ColumnTransformer(transformers=[('encoder',OneHotEncoder(),[0])],remainder='passthrough')\n",
        "x=np.array(ct.fit_transform(x))"
      ],
      "execution_count": 83,
      "outputs": []
    },
    {
      "cell_type": "code",
      "metadata": {
        "colab": {
          "base_uri": "https://localhost:8080/"
        },
        "id": "pRRYTnwR7hKg",
        "outputId": "4955b92e-486d-44bf-a754-5a1c2f8ee28a"
      },
      "source": [
        "print (x)"
      ],
      "execution_count": 82,
      "outputs": [
        {
          "output_type": "stream",
          "text": [
            "[[1.0 0.0 0.0 44.0 72000.0]\n",
            " [0.0 0.0 1.0 27.0 48000.0]\n",
            " [0.0 1.0 0.0 30.0 54000.0]\n",
            " [0.0 0.0 1.0 38.0 61000.0]\n",
            " [0.0 1.0 0.0 40.0 63777.77777777778]\n",
            " [1.0 0.0 0.0 35.0 58000.0]\n",
            " [0.0 0.0 1.0 38.77777777777778 52000.0]\n",
            " [1.0 0.0 0.0 48.0 79000.0]\n",
            " [0.0 1.0 0.0 50.0 83000.0]\n",
            " [1.0 0.0 0.0 37.0 67000.0]]\n"
          ],
          "name": "stdout"
        }
      ]
    },
    {
      "cell_type": "code",
      "metadata": {
        "colab": {
          "base_uri": "https://localhost:8080/"
        },
        "id": "5YIIeSDR8Oli",
        "outputId": "8fc9a7dc-6bd3-46ad-e4b2-752d9190bf76"
      },
      "source": [
        "print(x)#without np.array"
      ],
      "execution_count": 84,
      "outputs": [
        {
          "output_type": "stream",
          "text": [
            "[[0.0 1.0 0.0 0.0 44.0 72000.0]\n",
            " [1.0 0.0 0.0 1.0 27.0 48000.0]\n",
            " [1.0 0.0 1.0 0.0 30.0 54000.0]\n",
            " [1.0 0.0 0.0 1.0 38.0 61000.0]\n",
            " [1.0 0.0 1.0 0.0 40.0 63777.77777777778]\n",
            " [0.0 1.0 0.0 0.0 35.0 58000.0]\n",
            " [1.0 0.0 0.0 1.0 38.77777777777778 52000.0]\n",
            " [0.0 1.0 0.0 0.0 48.0 79000.0]\n",
            " [1.0 0.0 1.0 0.0 50.0 83000.0]\n",
            " [0.0 1.0 0.0 0.0 37.0 67000.0]]\n"
          ],
          "name": "stdout"
        }
      ]
    },
    {
      "cell_type": "markdown",
      "metadata": {
        "id": "Zb6Ydm0L9qVu"
      },
      "source": [
        "**ENCODING THE DEPENDENT VARIABLE**"
      ]
    },
    {
      "cell_type": "code",
      "metadata": {
        "id": "G1vCmDN29ZXE"
      },
      "source": [
        "from sklearn.preprocessing import LabelEncoder \n",
        "le= LabelEncoder()\n",
        "y=np.array(le.fit_transform(y))"
      ],
      "execution_count": 94,
      "outputs": []
    },
    {
      "cell_type": "code",
      "metadata": {
        "colab": {
          "base_uri": "https://localhost:8080/"
        },
        "id": "jqMkvlbV_Tg8",
        "outputId": "1ba8f38d-ba40-4bbf-8292-4b712fffac77"
      },
      "source": [
        "print (y)"
      ],
      "execution_count": 95,
      "outputs": [
        {
          "output_type": "stream",
          "text": [
            "[0 1 0 0 1 1 0 1 0 1]\n"
          ],
          "name": "stdout"
        }
      ]
    },
    {
      "cell_type": "markdown",
      "metadata": {
        "id": "VLjPKUSy_3PN"
      },
      "source": [
        "**SPLITING THE DATA INTO TEST AND TRAIN SET**"
      ]
    },
    {
      "cell_type": "code",
      "metadata": {
        "id": "NBVV-EO2AchJ"
      },
      "source": [
        "from sklearn.model_selection import train_test_split\n",
        "x_train,x_test,y_train,y_test=train_test_split(x,y,test_size=0.2,random_state=1)"
      ],
      "execution_count": 98,
      "outputs": []
    },
    {
      "cell_type": "code",
      "metadata": {
        "colab": {
          "base_uri": "https://localhost:8080/"
        },
        "id": "i_oZqYvuDFZo",
        "outputId": "0a3b3939-9aea-4574-b00b-2248ab59b33a"
      },
      "source": [
        "print(x_train)"
      ],
      "execution_count": 99,
      "outputs": [
        {
          "output_type": "stream",
          "text": [
            "[[1.0 0.0 0.0 1.0 38.77777777777778 52000.0]\n",
            " [1.0 0.0 1.0 0.0 40.0 63777.77777777778]\n",
            " [0.0 1.0 0.0 0.0 44.0 72000.0]\n",
            " [1.0 0.0 0.0 1.0 38.0 61000.0]\n",
            " [1.0 0.0 0.0 1.0 27.0 48000.0]\n",
            " [0.0 1.0 0.0 0.0 48.0 79000.0]\n",
            " [1.0 0.0 1.0 0.0 50.0 83000.0]\n",
            " [0.0 1.0 0.0 0.0 35.0 58000.0]]\n"
          ],
          "name": "stdout"
        }
      ]
    },
    {
      "cell_type": "code",
      "metadata": {
        "colab": {
          "base_uri": "https://localhost:8080/"
        },
        "id": "9sgXrcrGDJry",
        "outputId": "88a729e2-d3e7-4f42-8027-7c8eac3bb877"
      },
      "source": [
        "print(x_test)"
      ],
      "execution_count": 100,
      "outputs": [
        {
          "output_type": "stream",
          "text": [
            "[[1.0 0.0 1.0 0.0 30.0 54000.0]\n",
            " [0.0 1.0 0.0 0.0 37.0 67000.0]]\n"
          ],
          "name": "stdout"
        }
      ]
    },
    {
      "cell_type": "code",
      "metadata": {
        "colab": {
          "base_uri": "https://localhost:8080/"
        },
        "id": "tbZWp4puDVGo",
        "outputId": "7dff84d0-889d-4307-9da4-9718f4a399f2"
      },
      "source": [
        "print(y_train)"
      ],
      "execution_count": 101,
      "outputs": [
        {
          "output_type": "stream",
          "text": [
            "[0 1 0 0 1 1 0 1]\n"
          ],
          "name": "stdout"
        }
      ]
    },
    {
      "cell_type": "code",
      "metadata": {
        "colab": {
          "base_uri": "https://localhost:8080/"
        },
        "id": "RL34pF7tDYK0",
        "outputId": "0a37619b-fa37-4b6c-feef-8f181dff1c3e"
      },
      "source": [
        "print(y_test)"
      ],
      "execution_count": 102,
      "outputs": [
        {
          "output_type": "stream",
          "text": [
            "[0 1]\n"
          ],
          "name": "stdout"
        }
      ]
    },
    {
      "cell_type": "markdown",
      "metadata": {
        "id": "6mAzGPTZDmav"
      },
      "source": [
        "**FEATURE SCALING**\n",
        "\n",
        "1.   https://towardsdatascience.com/all-about-feature-scaling-bcc0ad75cb35\n",
        "2. https://medium.com/technofunnel/what-when-why-feature-scaling-for-machine-learning-standard-minmax-scaler-49e64c510422\n",
        "\n"
      ]
    },
    {
      "cell_type": "code",
      "metadata": {
        "id": "lc8CsOeVDtNp"
      },
      "source": [
        "#we apply feature scaling to the features beyond[-3,3] range so the dummy /encoded variables dont get scaled\n",
        "from sklearn.preprocessing import StandardScaler\n",
        "ss= StandardScaler()\n",
        "x_train[:,3:]=ss.fit_transform(x_train[:,3:])\n",
        "#fit gets the mean and std deviation of the set and transfrom apply it \n",
        "x_test[:,3:]=ss.transform(x_test[:,3:])#we dont do the fit on the test set because itmust be scaled with the same scaler of the train set.if we apply the fir it will genrate a new mean and variance for the test set so when we predict the answer would be conqurent to the predictio"
      ],
      "execution_count": 106,
      "outputs": []
    },
    {
      "cell_type": "code",
      "metadata": {
        "colab": {
          "base_uri": "https://localhost:8080/"
        },
        "id": "n4PtymoOK-Ff",
        "outputId": "7ae77fbd-7b35-4b34-f608-b20f1b11f28e"
      },
      "source": [
        "print(x_train)"
      ],
      "execution_count": 107,
      "outputs": [
        {
          "output_type": "stream",
          "text": [
            "[[1.0 0.0 0.0 1.2909944487358056 -0.19159184384578554 -1.0781259408412427]\n",
            " [1.0 0.0 1.0 -0.7745966692414833 -0.014117293757057846\n",
            "  -0.07013167641635404]\n",
            " [0.0 1.0 0.0 -0.7745966692414833 0.5667085065333239 0.6335624327104546]\n",
            " [1.0 0.0 0.0 1.2909944487358056 -0.3045301939022487 -0.307866172742979]\n",
            " [1.0 0.0 0.0 1.2909944487358056 -1.901801144700799 -1.4204636155515822]\n",
            " [0.0 1.0 0.0 -0.7745966692414833 1.1475343068237056 1.2326533634535488]\n",
            " [1.0 0.0 1.0 -0.7745966692414833 1.4379472069688966 1.5749910381638883]\n",
            " [0.0 1.0 0.0 -0.7745966692414833 -0.7401495441200352 -0.5646194287757336]]\n"
          ],
          "name": "stdout"
        }
      ]
    },
    {
      "cell_type": "code",
      "metadata": {
        "colab": {
          "base_uri": "https://localhost:8080/"
        },
        "id": "lIbRw-UvLBy0",
        "outputId": "0dcc23e6-521e-4cc4-ff86-2ec70c59274c"
      },
      "source": [
        "print(x_test)"
      ],
      "execution_count": 108,
      "outputs": [
        {
          "output_type": "stream",
          "text": [
            "[[1.0 0.0 1.0 2.7755575615628907e-17 30.0 54000.0]\n",
            " [0.0 1.0 0.0 2.7755575615628907e-17 37.0 67000.0]]\n"
          ],
          "name": "stdout"
        }
      ]
    }
  ]
}